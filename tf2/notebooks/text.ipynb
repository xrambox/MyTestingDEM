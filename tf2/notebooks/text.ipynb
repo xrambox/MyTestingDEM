{
 "cells": [
  {
   "cell_type": "markdown",
   "metadata": {},
   "source": [
    "2D linear elasticity example\n",
    "\n",
    "Solve the equilibrium equation:\n",
    "\\begin{equation}\n",
    "-\\nabla \\cdot \\sigma(x) = f(x) \\quad \\text{for } x \\in \\Omega\n",
    "\\end{equation}\n",
    "\n",
    "with the strain-displacement equation:\n",
    "\\begin{equation}\n",
    "\\epsilon = \\frac{1}{2}(\\nabla u + \\nabla u^T)\n",
    "\\end{equation}\n",
    "\n",
    "and the constitutive law:\n",
    "\\begin{equation}\n",
    "\\sigma = 2 \\mu \\epsilon + \\lambda (\\nabla \\cdot u) I\n",
    "\\end{equation}\n",
    "\n",
    "where \\(\\mu\\) and \\(\\lambda\\) are Lamé constants, and \\(I\\) is the identity tensor.\n",
    "\n",
    "Dirichlet boundary conditions:\n",
    "\\begin{equation}\n",
    "u(x) = \\hat{u} \\quad \\text{for } x \\in \\Gamma_D\n",
    "\\end{equation}\n",
    "\n",
    "Neumann boundary conditions:\n",
    "\\begin{equation}\n",
    "\\sigma n = \\hat{t} \\quad \\text{for } x \\in \\Gamma_N\n",
    "\\end{equation}\n",
    "\n",
    "where \\(n\\) is the normal vector.\n",
    "\n",
    "For this example:\n",
    "\\(\\Omega\\) is a plate of side 4 in the second quadrant with a hole of radius 1 centered at the origin.\n",
    "\n",
    "Symmetry (Dirichlet) boundary conditions on the x and y axes:\n",
    "\\begin{equation}\n",
    "u_x(x,y) = 0 \\quad \\text{for } x = 0\n",
    "\\end{equation}\n",
    "\\begin{equation}\n",
    "u_y(x,y) = 0 \\quad \\text{for } y = 0\n",
    "\\end{equation}\n",
    "\n",
    "Traction boundary conditions on the left and top edges derived from the exact solution.\n",
    "\n",
    "\\textit{Author: Cosmin}\n"
   ]
  },
  {
   "cell_type": "markdown",
   "metadata": {},
   "source": [
    "\\textbf{Poisson equation example}\n",
    "\n",
    "Solve the equation:\n",
    "\\begin{equation}\n",
    "-u''(x) = f(x) \\quad \\text{for } x \\in (a,b)\n",
    "\\end{equation}\n",
    "\n",
    "with Dirichlet boundary conditions:\n",
    "\\begin{equation}\n",
    "u(a) = u_0, \\quad u(b) = 1\n",
    "\\end{equation}\n",
    "\n",
    "\\textbf{Implementation with Deep Energy Method with adaptive activation function}\n",
    "\n",
    "(See \\href{https://doi.org/10.1016/j.jcp.2019.109136}{this paper} for more details.)\n",
    "\n"
   ]
  }
 ],
 "metadata": {
  "language_info": {
   "name": "python"
  }
 },
 "nbformat": 4,
 "nbformat_minor": 2
}
